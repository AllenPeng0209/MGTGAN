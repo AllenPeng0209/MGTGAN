{
 "cells": [
  {
   "cell_type": "code",
   "execution_count": 75,
   "metadata": {
    "collapsed": true
   },
   "outputs": [],
   "source": [
    "import numpy as np\n",
    "import glob\n",
    "import datetime\n",
    "import math\n",
    "import random\n",
    "import os\n",
    "import shutil\n",
    "import matplotlib.pyplot as plt\n",
    "import pretty_midi\n",
    "from pypianoroll import Multitrack, Track\n",
    "import librosa.display\n",
    "from utils import *\n",
    "\n",
    "ROOT_PATH = '/Users/allenpeng/Documents/Learning/Multi_Domian&Track_Music_Transfer/data'\n",
    "test_ratio = 0.1\n",
    "LAST_BAR_MODE = 'remove'"
   ]
  },
  {
   "cell_type": "code",
   "execution_count": null,
   "metadata": {
    "collapsed": true
   },
   "outputs": [],
   "source": [
    "\"\"\"1. divide the original set into train and test sets\"\"\"\n",
    "l = [f for f in os.listdir(os.path.join(ROOT_PATH, 'MIDI/rock/rock_midi'))]\n",
    "print(l)\n",
    "idx = np.random.choice(len(l), int(test_ratio * len(l)), replace=False)\n",
    "print(len(idx))\n",
    "for i in idx:\n",
    "    shutil.move(os.path.join(ROOT_PATH, 'MIDI/pop/pop_midi', l[i]),\n",
    "                os.path.join(ROOT_PATH, 'MIDI/pop/pop_test/origin_midi', l[i]))\n"
   ]
  },
  {
   "cell_type": "code",
   "execution_count": null,
   "metadata": {
    "collapsed": true
   },
   "outputs": [],
   "source": []
  }
 ],
 "metadata": {
  "kernelspec": {
   "display_name": "Python 3",
   "language": "python",
   "name": "python3"
  },
  "language_info": {
   "codemirror_mode": {
    "name": "ipython",
    "version": 3
   },
   "file_extension": ".py",
   "mimetype": "text/x-python",
   "name": "python",
   "nbconvert_exporter": "python",
   "pygments_lexer": "ipython3",
   "version": "3.6.3"
  }
 },
 "nbformat": 4,
 "nbformat_minor": 2
}
